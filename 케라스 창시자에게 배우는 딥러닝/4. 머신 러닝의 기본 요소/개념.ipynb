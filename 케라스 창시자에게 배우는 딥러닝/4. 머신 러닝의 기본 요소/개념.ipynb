{
 "cells": [
  {
   "cell_type": "markdown",
   "source": [
    "# 머신러닝의 4가지 분류\n",
    "#### 1.지도학습\n",
    "#### 2. 비지도학습\n",
    "* 데이터 시각화, 데이터셋의 상관관계 등을 잘 이해하려고 거치는 단계.\n",
    "* 차원 축소, 군집\n",
    "#### 3. 자기 지도 학습\n",
    "* 오토인코더\n",
    "#### 4. 강화학습"
   ],
   "metadata": {
    "collapsed": false
   }
  },
  {
   "cell_type": "markdown",
   "source": [
    "# 머신러닝 모델 평가\n",
    "* 처음 본 데이터에서 잘 작동하는 일반화된 모델 찾기. 성능 업\n",
    "과대적합 멈춰!\n",
    "#### 훈련, 검증, 테스트 세트\n",
    "#### 검증 세트에서 모델의 설정을 튜닝함. 근데 하이퍼파라미터 조정할때마다 검증 데이터의 정보가 누설되면 검증 데이터에만 잘 수행되는 모델댐. 특히 모델은 테스트 세트의 정보를 간접적으로라도 얻으면 안댐!!\n",
    "* ##### 대표적인 방법\n",
    "* 홀드아웃 검증, K-겹 교차검증, 셔플링 통한 반복 k-겹 교차검증"
   ],
   "metadata": {
    "collapsed": false
   }
  },
  {
   "cell_type": "code",
   "execution_count": null,
   "outputs": [],
   "source": [],
   "metadata": {
    "collapsed": false
   }
  }
 ],
 "metadata": {
  "kernelspec": {
   "display_name": "Python 3",
   "language": "python",
   "name": "python3"
  },
  "language_info": {
   "codemirror_mode": {
    "name": "ipython",
    "version": 2
   },
   "file_extension": ".py",
   "mimetype": "text/x-python",
   "name": "python",
   "nbconvert_exporter": "python",
   "pygments_lexer": "ipython2",
   "version": "2.7.6"
  }
 },
 "nbformat": 4,
 "nbformat_minor": 0
}
