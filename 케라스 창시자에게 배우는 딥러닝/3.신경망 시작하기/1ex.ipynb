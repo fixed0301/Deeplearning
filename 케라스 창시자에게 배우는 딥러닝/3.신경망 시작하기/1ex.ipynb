{
 "cells": [
  {
   "cell_type": "markdown",
   "source": [
    "몇 줄만에 모델 생성??! 편리하다..\n"
   ],
   "metadata": {
    "collapsed": false
   }
  },
  {
   "cell_type": "code",
   "execution_count": null,
   "outputs": [],
   "source": [
    "from keras import models\n",
    "from keras import layers\n",
    "\n",
    "model = models.Sequential()\n",
    "model.add(layers.Dense(32, activation='relu', input_shape =(784, )))\n",
    "model.add(layers.Dense(10, activation = 'softmax'))\n",
    "\n",
    "from keras import optimizers\n",
    "\n",
    "model.compile(optimizer = optimizers.RMSprop(lr = 0.01),\n",
    "              loss = 'mse'\n",
    "              metrics = ['accuracy'])\n",
    "model.fit(input_tensor, target_tensor, batch_size=128, epochs = 10)"
   ],
   "metadata": {
    "collapsed": false
   }
  }
 ],
 "metadata": {
  "kernelspec": {
   "display_name": "Python 3",
   "language": "python",
   "name": "python3"
  },
  "language_info": {
   "codemirror_mode": {
    "name": "ipython",
    "version": 2
   },
   "file_extension": ".py",
   "mimetype": "text/x-python",
   "name": "python",
   "nbconvert_exporter": "python",
   "pygments_lexer": "ipython2",
   "version": "2.7.6"
  }
 },
 "nbformat": 4,
 "nbformat_minor": 0
}
