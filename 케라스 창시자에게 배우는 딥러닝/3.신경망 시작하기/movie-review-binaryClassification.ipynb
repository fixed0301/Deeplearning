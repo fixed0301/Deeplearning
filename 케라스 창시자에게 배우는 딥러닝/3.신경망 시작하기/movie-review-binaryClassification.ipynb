{
 "cells": [
  {
   "cell_type": "code",
   "execution_count": 19,
   "outputs": [],
   "source": [
    "from keras.datasets import imdb\n",
    "(train_data, train_labels), (test_data, test_labels) = imdb.load_data(\n",
    "    num_words= 10000)"
   ],
   "metadata": {
    "collapsed": false
   }
  },
  {
   "cell_type": "code",
   "execution_count": 20,
   "outputs": [],
   "source": [
    "word_index = imdb.get_word_index() #word index는 단어와 정수 인덱스 매핑 딕셔너리\n",
    "reverse_word_index = dict([(value, key) for (key, value) in word_index.items()]) #items()는 튜플 쌍이 들어간 리스트로.\n",
    "decoded_review = ' '.join(\n",
    "    [reverse_word_index.get(i -3, '?') for i in train_data[0]] #get()은 해당 키의 값을 반환\n",
    ")"
   ],
   "metadata": {
    "collapsed": false
   }
  },
  {
   "cell_type": "code",
   "execution_count": 21,
   "outputs": [],
   "source": [
    "import numpy as np\n",
    "\n",
    "def vectorize(sequences, dimension = 10000):\n",
    "    results = np.zeros((len(sequences), dimension))  #zero() 인자로 튜플 받는다!!!! [[0. 0. 0. 0.][0. 0. 0. 0.]]이런 모양이심\n",
    "    for i, sequence in enumerate(sequences):\n",
    "        results[i, sequence] = 1.\n",
    "    return results\n",
    "\n",
    "x_train = vectorize(train_data)\n",
    "x_test = vectorize(test_data)"
   ],
   "metadata": {
    "collapsed": false
   }
  },
  {
   "cell_type": "code",
   "execution_count": 22,
   "outputs": [],
   "source": [
    "y_train = np.asarray(train_labels).astype('float32') #asarray는 배열로 변환하는 것, astype는 dtype 바꾸기\n",
    "y_test = np.asarray(test_labels).astype('float32')"
   ],
   "metadata": {
    "collapsed": false
   }
  },
  {
   "cell_type": "markdown",
   "source": [
    "# 모델 정의하기"
   ],
   "metadata": {
    "collapsed": false
   }
  },
  {
   "cell_type": "code",
   "execution_count": 23,
   "outputs": [],
   "source": [
    "from keras import models\n",
    "from keras import layers\n",
    "\n",
    "model = models.Sequential()\n",
    "model.add(layers.Dense(16, activation = 'relu', input_shape=(10000, )))\n",
    "model.add(layers.Dense(16, activation = 'relu'))\n",
    "model.add(layers.Dense(1, activation = 'sigmoid'))"
   ],
   "metadata": {
    "collapsed": false
   }
  },
  {
   "cell_type": "markdown",
   "source": [
    "# 모델 컴파일"
   ],
   "metadata": {
    "collapsed": false
   }
  },
  {
   "cell_type": "code",
   "execution_count": 24,
   "outputs": [],
   "source": [
    "model.compile(optimizer='rmsprop',\n",
    "              loss = 'binary_crossentropy',\n",
    "              metrics=['accuracy'])"
   ],
   "metadata": {
    "collapsed": false
   }
  },
  {
   "cell_type": "markdown",
   "source": [
    "# 훈련 검증"
   ],
   "metadata": {
    "collapsed": false
   }
  },
  {
   "cell_type": "code",
   "execution_count": 25,
   "outputs": [],
   "source": [
    "x_val= x_train[:10000]\n",
    "part_x_train = x_train[10000:]\n",
    "y_val = y_train[:10000]\n",
    "part_y_train = y_train[10000:]"
   ],
   "metadata": {
    "collapsed": false
   }
  },
  {
   "cell_type": "markdown",
   "source": [
    "# 모델 훈련하기"
   ],
   "metadata": {
    "collapsed": false
   }
  },
  {
   "cell_type": "code",
   "execution_count": 27,
   "outputs": [
    {
     "name": "stdout",
     "output_type": "stream",
     "text": [
      "Epoch 1/20\n",
      "30/30 [==============================] - 2s 36ms/step - loss: 0.5384 - accuracy: 0.7771 - val_loss: 0.4118 - val_accuracy: 0.8619\n",
      "Epoch 2/20\n",
      "30/30 [==============================] - 1s 22ms/step - loss: 0.3350 - accuracy: 0.8931 - val_loss: 0.3174 - val_accuracy: 0.8872\n",
      "Epoch 3/20\n",
      "30/30 [==============================] - 1s 21ms/step - loss: 0.2487 - accuracy: 0.9159 - val_loss: 0.2924 - val_accuracy: 0.8839\n",
      "Epoch 4/20\n",
      "30/30 [==============================] - 1s 23ms/step - loss: 0.2002 - accuracy: 0.9332 - val_loss: 0.2757 - val_accuracy: 0.8907\n",
      "Epoch 5/20\n",
      "30/30 [==============================] - 1s 23ms/step - loss: 0.1674 - accuracy: 0.9442 - val_loss: 0.2754 - val_accuracy: 0.8904\n",
      "Epoch 6/20\n",
      "30/30 [==============================] - 1s 24ms/step - loss: 0.1395 - accuracy: 0.9549 - val_loss: 0.2994 - val_accuracy: 0.8832\n",
      "Epoch 7/20\n",
      "30/30 [==============================] - 1s 24ms/step - loss: 0.1207 - accuracy: 0.9613 - val_loss: 0.3009 - val_accuracy: 0.8861\n",
      "Epoch 8/20\n",
      "30/30 [==============================] - 1s 36ms/step - loss: 0.1025 - accuracy: 0.9698 - val_loss: 0.3095 - val_accuracy: 0.8841\n",
      "Epoch 9/20\n",
      "30/30 [==============================] - 1s 44ms/step - loss: 0.0877 - accuracy: 0.9750 - val_loss: 0.3218 - val_accuracy: 0.8803\n",
      "Epoch 10/20\n",
      "30/30 [==============================] - 1s 37ms/step - loss: 0.0716 - accuracy: 0.9819 - val_loss: 0.3457 - val_accuracy: 0.8813\n",
      "Epoch 11/20\n",
      "30/30 [==============================] - 1s 34ms/step - loss: 0.0625 - accuracy: 0.9837 - val_loss: 0.3602 - val_accuracy: 0.8800\n",
      "Epoch 12/20\n",
      "30/30 [==============================] - 1s 23ms/step - loss: 0.0519 - accuracy: 0.9883 - val_loss: 0.3816 - val_accuracy: 0.8771\n",
      "Epoch 13/20\n",
      "30/30 [==============================] - 1s 25ms/step - loss: 0.0410 - accuracy: 0.9912 - val_loss: 0.3992 - val_accuracy: 0.8796\n",
      "Epoch 14/20\n",
      "30/30 [==============================] - 1s 29ms/step - loss: 0.0335 - accuracy: 0.9941 - val_loss: 0.4275 - val_accuracy: 0.8775\n",
      "Epoch 15/20\n",
      "30/30 [==============================] - 1s 25ms/step - loss: 0.0308 - accuracy: 0.9935 - val_loss: 0.4457 - val_accuracy: 0.8757\n",
      "Epoch 16/20\n",
      "30/30 [==============================] - 1s 27ms/step - loss: 0.0251 - accuracy: 0.9957 - val_loss: 0.4869 - val_accuracy: 0.8726\n",
      "Epoch 17/20\n",
      "30/30 [==============================] - 1s 30ms/step - loss: 0.0200 - accuracy: 0.9973 - val_loss: 0.4873 - val_accuracy: 0.8730\n",
      "Epoch 18/20\n",
      "30/30 [==============================] - 1s 31ms/step - loss: 0.0146 - accuracy: 0.9988 - val_loss: 0.5513 - val_accuracy: 0.8718\n",
      "Epoch 19/20\n",
      "30/30 [==============================] - 1s 30ms/step - loss: 0.0145 - accuracy: 0.9982 - val_loss: 0.5319 - val_accuracy: 0.8709\n",
      "Epoch 20/20\n",
      "30/30 [==============================] - 1s 34ms/step - loss: 0.0084 - accuracy: 0.9997 - val_loss: 0.5605 - val_accuracy: 0.8716\n"
     ]
    }
   ],
   "source": [
    "model.compile(optimizer = 'rmsprop',\n",
    "               loss = 'binary_crossentropy',\n",
    "               metrics = ['accuracy'])\n",
    "\n",
    "history = model.fit(part_x_train, part_y_train, epochs=20, batch_size=512, validation_data=(x_val, y_val))\n",
    "#fit()는 history(훈련 정보의) 객체 반환. 딕셔너리!!!인 history 속성!!!"
   ],
   "metadata": {
    "collapsed": false
   }
  },
  {
   "cell_type": "code",
   "execution_count": 30,
   "outputs": [
    {
     "data": {
      "text/plain": "dict_keys(['loss', 'accuracy', 'val_loss', 'val_accuracy'])"
     },
     "execution_count": 30,
     "metadata": {},
     "output_type": "execute_result"
    }
   ],
   "source": [
    "history_dict = history.history\n",
    "history_dict.keys()"
   ],
   "metadata": {
    "collapsed": false
   }
  },
  {
   "cell_type": "markdown",
   "source": [
    "# 훈련과 검증 손실 그리기"
   ],
   "metadata": {
    "collapsed": false
   }
  },
  {
   "cell_type": "code",
   "execution_count": 34,
   "outputs": [
    {
     "data": {
      "text/plain": "<Figure size 640x480 with 1 Axes>",
      "image/png": "[encoded data removed]"
     },
     "metadata": {},
     "output_type": "display_data"
    }
   ],
   "source": [
    "import matplotlib.pyplot as plt\n",
    "\n",
    "history_dict = history.history\n",
    "loss = history_dict['loss']\n",
    "val_loss = history_dict['val_loss']\n",
    "\n",
    "epochs = range(1, len(loss) +1)\n",
    "\n",
    "plt.plot(epochs, loss, 'bo', label = 'Training loss')\n",
    "plt.plot(epochs, val_loss, 'b', label = 'Validation loss')\n",
    "plt.title('Training and validation accuracy')\n",
    "plt.xlabel('Epochs')\n",
    "plt.ylabel('Accuracy')\n",
    "plt.legend()\n",
    "plt.show()"
   ],
   "metadata": {
    "collapsed": false
   }
  },
  {
   "cell_type": "code",
   "execution_count": 38,
   "outputs": [
    {
     "data": {
      "text/plain": "<Figure size 640x480 with 1 Axes>",
      "image/png": "[encoded data removed]"
     },
     "metadata": {},
     "output_type": "display_data"
    }
   ],
   "source": [
    "acc= history_dict['accuracy']\n",
    "val_acc = history_dict['val_accuracy']\n",
    "\n",
    "plt.plot(epochs, acc, 'bo', label = 'Training acc')\n",
    "plt.plot(epochs, val_acc, 'b', label = 'Validation acc')\n",
    "plt.title('Training and validation accuracy')\n",
    "plt.xlabel('Epochs')\n",
    "plt.ylabel('Accuracy')\n",
    "plt.legend()\n",
    "plt.show()"
   ],
   "metadata": {
    "collapsed": false
   }
  },
  {
   "cell_type": "code",
   "execution_count": 51,
   "outputs": [
    {
     "name": "stdout",
     "output_type": "stream",
     "text": [
      "Epoch 1/10\n",
      "49/49 [==============================] - 2s 17ms/step - loss: 0.1923 - accuracy: 0.7762\n",
      "Epoch 2/10\n",
      "49/49 [==============================] - 1s 30ms/step - loss: 0.1026 - accuracy: 0.8875\n",
      "Epoch 3/10\n",
      "49/49 [==============================] - 1s 20ms/step - loss: 0.0732 - accuracy: 0.9114\n",
      "Epoch 4/10\n",
      "49/49 [==============================] - 1s 19ms/step - loss: 0.0610 - accuracy: 0.9251\n",
      "Epoch 5/10\n",
      "49/49 [==============================] - 1s 19ms/step - loss: 0.0522 - accuracy: 0.9381\n",
      "Epoch 6/10\n",
      "49/49 [==============================] - 1s 18ms/step - loss: 0.0463 - accuracy: 0.9443\n",
      "Epoch 7/10\n",
      "49/49 [==============================] - 1s 19ms/step - loss: 0.0422 - accuracy: 0.9510\n",
      "Epoch 8/10\n",
      "49/49 [==============================] - 1s 18ms/step - loss: 0.0378 - accuracy: 0.9564\n",
      "Epoch 9/10\n",
      "49/49 [==============================] - 1s 19ms/step - loss: 0.0344 - accuracy: 0.9618\n",
      "Epoch 10/10\n",
      "49/49 [==============================] - 1s 19ms/step - loss: 0.0306 - accuracy: 0.9670\n",
      "782/782 [==============================] - 3s 3ms/step - loss: 0.0951 - accuracy: 0.8756\n"
     ]
    }
   ],
   "source": [
    "model = models.Sequential()\n",
    "model.add(layers.Dense(16, activation = 'relu', input_shape=(10000, )))\n",
    "model.add(layers.Dense(16, activation = 'relu'))\n",
    "model.add(layers.Dense(16, activation = 'relu'))\n",
    "model.add(layers.Dense(1, activation = 'sigmoid'))\n",
    "\n",
    "model.compile(optimizer='rmsprop',\n",
    "              loss = 'mse',\n",
    "              metrics = ['accuracy'])\n",
    "\n",
    "model.fit(x_train, y_train, epochs = 10, batch_size= 512)\n",
    "results = model.evaluate(x_test, y_test)"
   ],
   "metadata": {
    "collapsed": false
   }
  },
  {
   "cell_type": "code",
   "execution_count": 52,
   "outputs": [
    {
     "data": {
      "text/plain": "[0.09513623267412186, 0.8755999803543091]"
     },
     "execution_count": 52,
     "metadata": {},
     "output_type": "execute_result"
    }
   ],
   "source": [
    "results"
   ],
   "metadata": {
    "collapsed": false
   }
  },
  {
   "cell_type": "code",
   "execution_count": 50,
   "outputs": [
    {
     "name": "stdout",
     "output_type": "stream",
     "text": [
      "782/782 [==============================] - 2s 3ms/step\n"
     ]
    },
    {
     "data": {
      "text/plain": "array([[0.23186995],\n       [0.9873791 ],\n       [0.84749526],\n       ...,\n       [0.16924761],\n       [0.11629201],\n       [0.5223204 ]], dtype=float32)"
     },
     "execution_count": 50,
     "metadata": {},
     "output_type": "execute_result"
    }
   ],
   "source": [
    "model.predict(x_test)"
   ],
   "metadata": {
    "collapsed": false
   }
  },
  {
   "cell_type": "code",
   "execution_count": null,
   "outputs": [],
   "source": [],
   "metadata": {
    "collapsed": false
   }
  }
 ],
 "metadata": {
  "kernelspec": {
   "display_name": "Python 3",
   "language": "python",
   "name": "python3"
  },
  "language_info": {
   "codemirror_mode": {
    "name": "ipython",
    "version": 2
   },
   "file_extension": ".py",
   "mimetype": "text/x-python",
   "name": "python",
   "nbconvert_exporter": "python",
   "pygments_lexer": "ipython2",
   "version": "2.7.6"
  }
 },
 "nbformat": 4,
 "nbformat_minor": 0
}
