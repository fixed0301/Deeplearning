{
 "cells": [
  {
   "cell_type": "code",
   "execution_count": 2,
   "metadata": {
    "collapsed": true
   },
   "outputs": [
    {
     "name": "stdout",
     "output_type": "stream",
     "text": [
      "Downloading data from https://storage.googleapis.com/tensorflow/tf-keras-datasets/reuters.npz\n",
      "2110848/2110848 [==============================] - 2s 1us/step\n"
     ]
    }
   ],
   "source": [
    "from keras.datasets import reuters\n",
    "\n",
    "(train_data, train_labels), (test_data, test_labels) = reuters.load_data(num_words = 10000)"
   ]
  },
  {
   "cell_type": "markdown",
   "source": [
    "num_words = 는 자주 등장하는 단어 10000개로 제한함"
   ],
   "metadata": {
    "collapsed": false
   }
  },
  {
   "cell_type": "code",
   "execution_count": 27,
   "outputs": [
    {
     "data": {
      "text/plain": "array([list([1, 2, 2, 8, 43, 10, 447, 5, 25, 207, 270, 5, 3095, 111, 16, 369, 186, 90, 67, 7, 89, 5, 19, 102, 6, 19, 124, 15, 90, 67, 84, 22, 482, 26, 7, 48, 4, 49, 8, 864, 39, 209, 154, 6, 151, 6, 83, 11, 15, 22, 155, 11, 15, 7, 48, 9, 4579, 1005, 504, 6, 258, 6, 272, 11, 15, 22, 134, 44, 11, 15, 16, 8, 197, 1245, 90, 67, 52, 29, 209, 30, 32, 132, 6, 109, 15, 17, 12]),\n       list([1, 3267, 699, 3434, 2295, 56, 2, 7511, 9, 56, 3906, 1073, 81, 5, 1198, 57, 366, 737, 132, 20, 4093, 7, 2, 49, 2295, 2, 1037, 3267, 699, 3434, 8, 7, 10, 241, 16, 855, 129, 231, 783, 5, 4, 587, 2295, 2, 2, 775, 7, 48, 34, 191, 44, 35, 1795, 505, 17, 12]),\n       list([1, 53, 12, 284, 15, 14, 272, 26, 53, 959, 32, 818, 15, 14, 272, 26, 39, 684, 70, 11, 14, 12, 3886, 18, 180, 183, 187, 70, 11, 14, 102, 32, 11, 29, 53, 44, 704, 15, 14, 19, 758, 15, 53, 959, 47, 1013, 15, 14, 19, 132, 15, 39, 965, 32, 11, 14, 147, 72, 11, 180, 183, 187, 44, 11, 14, 102, 19, 11, 123, 186, 90, 67, 960, 4, 78, 13, 68, 467, 511, 110, 59, 89, 90, 67, 1390, 55, 2678, 92, 617, 80, 1274, 46, 905, 220, 13, 4, 346, 48, 235, 629, 5, 211, 5, 1118, 7, 2, 81, 5, 187, 11, 15, 9, 1709, 201, 5, 47, 3615, 18, 478, 4514, 5, 1118, 7, 232, 2, 71, 5, 160, 63, 11, 9, 2, 81, 5, 102, 59, 11, 17, 12]),\n       ...,\n       list([1, 141, 3890, 387, 81, 8, 16, 1629, 10, 340, 1241, 850, 31, 56, 3890, 691, 9, 1241, 71, 9, 5985, 2, 2, 699, 2, 2, 2, 699, 244, 5945, 4, 49, 8, 4, 656, 850, 33, 2993, 9, 2139, 340, 3371, 1493, 9, 2, 22, 2, 1094, 687, 83, 35, 15, 257, 6, 57, 9190, 7, 4, 5956, 654, 5, 2, 6191, 1371, 4, 49, 8, 16, 369, 646, 6, 1076, 7, 124, 407, 17, 12]),\n       list([1, 53, 46, 957, 26, 14, 74, 132, 26, 39, 46, 258, 3614, 18, 14, 74, 134, 5131, 18, 88, 2321, 72, 11, 14, 1842, 32, 11, 123, 383, 89, 39, 46, 235, 10, 864, 728, 5, 258, 44, 11, 15, 22, 753, 9, 42, 92, 131, 728, 5, 69, 312, 11, 15, 22, 222, 2, 3237, 383, 48, 39, 74, 235, 10, 864, 276, 5, 61, 32, 11, 15, 21, 4, 211, 5, 126, 1072, 42, 92, 131, 46, 19, 352, 11, 15, 22, 710, 220, 9, 42, 92, 131, 276, 5, 59, 61, 11, 15, 22, 10, 455, 7, 1172, 137, 336, 1325, 6, 1532, 142, 971, 6463, 43, 359, 5, 4, 326, 753, 364, 17, 12]),\n       list([1, 227, 2406, 91, 2, 125, 2855, 21, 4, 3976, 76, 7, 4, 757, 481, 3976, 790, 5259, 5654, 9, 111, 149, 8, 7, 10, 76, 223, 51, 4, 417, 8, 1047, 91, 6917, 1688, 340, 7, 194, 9411, 6, 1894, 21, 127, 2151, 2394, 1456, 6, 3034, 4, 329, 433, 7, 65, 87, 1127, 10, 8219, 1475, 290, 9, 21, 567, 16, 1926, 24, 4, 76, 209, 30, 4033, 6655, 5654, 8, 4, 60, 8, 4, 966, 308, 40, 2575, 129, 2, 295, 277, 1071, 9, 24, 286, 2114, 234, 222, 9, 4, 906, 3994, 8519, 114, 5758, 1752, 7, 4, 113, 17, 12])],\n      dtype=object)"
     },
     "execution_count": 27,
     "metadata": {},
     "output_type": "execute_result"
    }
   ],
   "source": [
    "train_data"
   ],
   "metadata": {
    "collapsed": false
   }
  },
  {
   "cell_type": "code",
   "execution_count": 48,
   "outputs": [
    {
     "data": {
      "text/plain": "139"
     },
     "execution_count": 48,
     "metadata": {},
     "output_type": "execute_result"
    }
   ],
   "source": [
    "len(train_data[2])"
   ],
   "metadata": {
    "collapsed": false
   }
  },
  {
   "cell_type": "code",
   "execution_count": 25,
   "outputs": [],
   "source": [
    "word_index = reuters.get_word_index()\n",
    "reverse_word_index = dict([(value, key) for (key, value) in word_index.items()])\n",
    "decoded_newswire = ' '.join([reverse_word_index.get(i-3,'?') for i in train_data[0]])"
   ],
   "metadata": {
    "collapsed": false
   }
  },
  {
   "cell_type": "code",
   "execution_count": 28,
   "outputs": [
    {
     "data": {
      "text/plain": "{10996: 'mdbl',\n 16260: 'fawc',\n 12089: 'degussa',\n 8803: 'woods',\n 13796: 'hanging',\n 20672: 'localized',\n 20673: 'sation',\n 20675: 'chanthaburi',\n 10997: 'refunding',\n 8804: 'hermann',\n 20676: 'passsengers',\n 20677: 'stipulate',\n 8352: 'heublein',\n 20713: 'screaming',\n 16261: 'tcby',\n 185: 'four',\n 1642: 'grains',\n 20680: 'broiler',\n 12090: 'wooden',\n 1220: 'wednesday',\n 13797: 'highveld',\n 7593: 'duffour',\n 20681: '0053',\n 3914: 'elections',\n 2563: '270',\n 3551: '271',\n 5113: '272',\n 3552: '273',\n 3400: '274',\n 7975: 'rudman',\n 3401: '276',\n 3478: '277',\n 3632: '278',\n 4309: '279',\n 9381: 'dormancy',\n 7247: 'errors',\n 3086: 'deferred',\n 20683: 'sptnd',\n 8805: 'cooking',\n 20684: 'stratabit',\n 16262: 'designing',\n 20685: 'metalurgicos',\n 13798: 'databank',\n 20686: '300er',\n 20687: 'shocks',\n 7972: 'nawg',\n 20688: 'tnta',\n 20689: 'perforations',\n 2891: 'affiliates',\n 20690: '27p',\n 16263: 'ching',\n 595: 'china',\n 16264: 'wagyu',\n 3189: 'affiliated',\n 16265: 'chino',\n 16266: 'chinh',\n 20692: 'slickline',\n 13799: 'doldrums',\n 12092: 'kids',\n 3028: 'climbed',\n 6693: 'controversy',\n 20693: 'kidd',\n 12093: 'spotty',\n 12639: 'rebel',\n 9382: 'millimetres',\n 4007: 'golden',\n 5689: 'projection',\n 12094: 'stern',\n 7903: \"hudson's\",\n 10066: 'dna',\n 20695: 'dnc',\n 20696: 'hodler',\n 2394: 'lme',\n 20697: 'insolvancy',\n 13800: 'music',\n 1984: 'therefore',\n 10998: 'dns',\n 6959: 'distortions',\n 13801: 'thassos',\n 20698: 'populations',\n 8806: 'meteorologist',\n 43: 'loss',\n 9383: 'exco',\n 20813: 'adventist',\n 16267: 'murchison',\n 10999: 'locked',\n 13802: 'kampala',\n 20699: 'arndt',\n 1267: 'nakasone',\n 20700: 'steinweg',\n 3633: \"india's\",\n 3029: 'wang',\n 10067: 'wane',\n 13803: 'unjust',\n 13804: 'titanium',\n 850: 'want',\n 20701: 'pinto',\n 16268: \"institutes'\",\n 7973: 'absolute',\n 4677: 'travel',\n 6422: 'cutback',\n 16269: 'nazmi',\n 1858: 'modest',\n 16270: 'shopwell',\n 20702: 'sedi',\n 20703: 'adoped',\n 16271: 'tulis',\n 20704: '18th',\n 20705: \"wmc's\",\n 20706: 'menlo',\n 11000: 'reiners',\n 12095: 'farmlands',\n 20707: 'nonsensical',\n 20708: 'elisra',\n 2461: 'welcomed',\n 20709: 'peup',\n 16272: \"holiday's\",\n 20711: 'activating',\n 16273: 'avondale',\n 16274: 'interational',\n 20712: 'welcomes',\n 16275: 'fip',\n 11001: 'tailings',\n 4205: 'fit',\n 16276: 'lifeline',\n 1916: 'bringing',\n 4819: 'fix',\n 6164: '624',\n 12096: 'naturalite',\n 6165: 'wales',\n 8807: 'fin',\n 11129: 'fio',\n 20714: 'ceremenony',\n 20715: 'sovr',\n 20716: \"yeo's\",\n 1788: 'effects',\n 13805: 'sixteen',\n 8808: 'undeveloped',\n 13806: 'glutted',\n 20717: 'barton',\n 20718: 'froday',\n 10089: 'arrow',\n 11002: 'stabilises',\n 6960: 'allan',\n 20719: '374p',\n 3891: '393',\n 4008: '392',\n 4206: '391',\n 3079: '390',\n 4550: '397',\n 6166: '396',\n 6423: '395',\n 4207: '394',\n 6961: '399',\n 4208: '398',\n 7595: 'stabilised',\n 5114: 'smelters',\n 20720: 'oprah',\n 20721: 'orginially',\n 20722: \"tvx's\",\n 16278: 'ponomarev',\n 20723: 'enviroment',\n 20724: \"reeves'\",\n 8363: 'mason',\n 1670: 'encourage',\n 7596: 'adapt',\n 12776: 'abbott',\n 13808: 'stamping',\n 20726: 'colquiri',\n 11003: 'ambrit',\n 8353: 'strata',\n 4821: 'corrects',\n 11922: 'sandra',\n 859: 'estimate',\n 20727: 'universally',\n 20728: 'chlorine',\n 16279: 'competes',\n 10068: 'leiner',\n 8809: 'ministries',\n 8810: 'disturbed',\n 13809: 'competed',\n 8811: 'juergen',\n 13810: 'kfw',\n 11004: 'turben',\n 9384: 'reintroduced',\n 20729: 'maladies',\n 4101: 'chevron',\n 16280: 'lazere',\n 8812: 'antilles',\n 11907: 'dti',\n 9070: 'specially',\n 4678: 'bilzerian',\n 13811: 'bakelite',\n 20730: 'renovated',\n 568: 'service',\n 16281: 'payless',\n 20731: 'spiegler',\n 831: 'needed',\n 16282: 'wigglesworth',\n 6962: 'master',\n 13812: 'antonson',\n 20732: 'genesis',\n 13813: 'vismara',\n 20734: 'organically',\n 20735: \"accords'\",\n 5940: 'task',\n 7974: 'positively',\n 3479: 'feasibility',\n 6963: 'ahmed',\n 13814: \"suralco's\",\n 20736: 'awacs',\n 16283: 'idly',\n 20737: 'regulator',\n 12097: 'pseudorabies',\n 16284: 'staubli',\n 8813: 'nzi',\n 5115: 'feeling',\n 3127: '275',\n 20738: '6819',\n 16285: 'gorman',\n 8354: 'sustaining',\n 9385: 'spectrum',\n 20739: 'consenting',\n 12098: 'recapitalized',\n 11562: 'sailed',\n 7597: 'dozen',\n 1985: 'affairs',\n 2253: 'courier',\n 8355: 'kremlin',\n 895: 'shipments',\n 16286: \"aquino's\",\n 10070: 'committing',\n 5293: 'sugarcane',\n 9386: 'diminishing',\n 16287: 'vexing',\n 11005: 'simplify',\n 6167: 'mouth',\n 7248: 'steinhardt',\n 8814: 'conceded',\n 9387: 'bradford',\n 7976: 'singer',\n 20740: '5602',\n 13816: \"1987's\",\n 4950: 'tech',\n 6424: 'teck',\n 20741: 'majv',\n 666: 'saying',\n 16477: 'dickey',\n 20742: 'sweetner',\n 21149: 'teresa',\n 20743: 'ulcer',\n 13817: 'cheaply',\n 2361: 'thai',\n 6964: 'orleans',\n 16290: 'excavator',\n 6168: 'rico',\n 12099: 'lube',\n 13818: 'rick',\n 4679: 'rich',\n 13819: 'kerna',\n 950: 'rice',\n 4209: 'rica',\n 5503: 'plate',\n 16291: 'platt',\n 8356: 'altogether',\n 8815: 'jaguar',\n 20744: 'dynair',\n 8816: 'patch',\n 2892: 'ldp',\n 13820: 'boarded',\n 16292: 'precluding',\n 11006: 'clarified',\n 16293: 'sensitivity',\n 1511: 'alternative',\n 11007: 'clarifies',\n 5116: 'lots',\n 7598: 'irs',\n 20745: 'irv',\n 13821: 'iri',\n 13822: 'ira',\n 5690: 'timber',\n 20746: 'ire',\n 5219: 'discipline',\n 1937: 'extend',\n 3634: 'nature',\n 16295: \"amb's\",\n 16296: 'dunhill',\n 2142: 'extent',\n 20747: 'restrcitions',\n 2396: 'heating',\n 11008: \"mannesmann's\",\n 20748: 'outsanding',\n 20749: 'multimillions',\n 13824: 'sarcinelli',\n 6694: 'southeastern',\n 10071: 'eradicate',\n 9388: 'libyan',\n 20750: 'foreclosing',\n 12101: 'maclaine',\n 20751: 'fra',\n 353: 'union',\n 11009: 'frn',\n 386: 'much',\n 12102: 'fry',\n 20752: 'mothball',\n 10072: 'chlorazepate',\n 12103: 'dxns',\n 19981: 'toyko',\n 20753: 'spit',\n 16297: '007050',\n 16298: 'freehold',\n 13825: 'davy',\n 11010: 'dave',\n 12177: 'spie',\n 10117: 'aguayo',\n 12104: 'wildcat',\n 10069: 'fecs',\n 20754: 'kennan',\n 16299: 'intal',\n 9389: 'contingencies',\n 16551: 'professionally',\n 16300: 'microbiological',\n 20756: 'misconstrued',\n 409: 'k',\n 20757: 'securitiesd',\n 16301: 'deferring',\n 5941: 'kohl',\n 3030: 'conditioned',\n 20758: 'fnhb',\n 16302: \"october's\",\n 13954: 'memorial',\n 6965: 'democracies',\n 27520: 'conformed',\n 464: 'split',\n 12105: \"bond's\",\n 11112: 'thinly',\n 16515: 'dunkirk',\n 16303: 'cavanaugh',\n 13827: \"securities'\",\n 21345: 'marches',\n 16304: 'issam',\n 2020: 'workforce',\n 12106: 'meinert',\n 13828: 'boiler',\n 5294: \"bp's\",\n 16305: 'torpedoed',\n 20762: 'indidate',\n 13829: 'downwardly',\n 20763: 'viviez',\n 20764: 'vladiminovich',\n 16306: 'academic',\n 20765: 'architecural',\n 1117: 'corporate',\n 16307: 'appropriately',\n 20766: 'teicc',\n 20767: \"hanover's\",\n 8817: 'aristech',\n 20768: 'portrayed',\n 21383: 'raffineries',\n 20770: 'hai',\n 7599: 'hal',\n 13830: 'ham',\n 10073: 'han',\n 20771: 'e15b',\n 61: 'had',\n 20772: 'hay',\n 13831: 'botchwey',\n 10074: 'haq',\n 37: 'has',\n 13832: 'hat',\n 20773: 'hav',\n 20774: 'fortin',\n 8818: 'municipal',\n 20775: 'osman',\n 20776: 'fsical',\n 3480: 'elders',\n 12107: 'survival',\n 16308: 'unequivocally',\n 2519: 'objective',\n 6695: 'indicative',\n 10075: 'shadow',\n 21411: 'riskiness',\n 20778: 'positiive',\n 10076: \"american's\",\n 16309: 'alick',\n 16310: 'harima',\n 12108: 'alice',\n 20779: 'altschul',\n 16311: 'festivities',\n 20780: 'medecines',\n 2942: 'beneficial',\n 12109: 'yoweri',\n 13833: 'crowd',\n 9390: 'crowe',\n 3553: 'crown',\n 13679: 'topping',\n 8819: 'captive',\n 12110: 'billboard',\n 6169: 'fiduciary',\n 3402: 'bottom',\n 20782: 'plucked',\n 20783: 'locksmithing',\n 9391: 'ecopetrol',\n 24018: 'pipestone',\n 5505: \"growers'\",\n 20785: 'borrows',\n 16312: 'eduard',\n 13834: 'venpres',\n 16313: 'bamboo',\n 13835: 'foolish',\n 20786: 'uruguyan',\n 20787: 'officeholders',\n 20788: 'economiques',\n 16314: 'aden',\n 4822: 'maxwell',\n 4680: 'marshall',\n 16315: 'honeymoon',\n 16316: 'administer',\n 20790: 'shoots',\n 16317: 'rubbertech',\n 16318: 'johsen',\n 10077: 'reciprocity',\n 13836: 'fabric',\n 20791: 'suffice',\n 20792: 'spokemsan',\n 20793: \"sonora's\",\n 16319: '5865',\n 16320: \"systems'\",\n 20794: 'perfumes',\n 20795: 'halycon',\n 20796: 'nonvoting',\n 7250: 'safeguard',\n 21538: 'sawdust',\n 20797: \"else's\",\n 13837: 'arrays',\n 20798: 'aza',\n 20799: 'smasher',\n 12111: 'complications',\n 1813: 'pesos',\n 20800: 'relabelling',\n 3722: 'passenger',\n 12112: \"avon's\",\n 20801: 'megahertz',\n 10683: 'mirror',\n 8357: 'minas',\n 16322: 'bourdain',\n 20802: 'crownx',\n 6425: 'eventual',\n 1207: 'crowns',\n 1369: 'role',\n 20803: 'obliges',\n 16323: 'rolf',\n 13838: 'vegetative',\n 20804: 'rolm',\n 4419: 'roll',\n 2463: 'intend',\n 16324: 'palms',\n 19255: 'denys',\n 13839: 'transported',\n 20805: 'moresby',\n 16325: 'devon',\n 1351: 'intent',\n 20806: \"camco's\",\n 5942: 'variable',\n 20807: 'transporter',\n 16326: 'danske',\n 13840: 'friedhelm',\n 8358: 'hawker',\n 17774: \"sand's\",\n 20808: 'preseving',\n 12113: '80386',\n 16328: 'bnls',\n 19984: 'ordination',\n 11011: 'overturned',\n 16329: 'erred',\n 6696: 'cincinnati',\n 16710: 'corps',\n 20809: 'whoever',\n 16330: 'osp',\n 13841: 'osr',\n 12114: 'ost',\n 16331: 'chair',\n 5647: '690',\n 20810: 'grapples',\n 13842: 'megawatts',\n 20811: 'photocopiers',\n 20812: 'sconninx',\n 2274: 'circumstances',\n 13843: 'oversight',\n 20814: \"paradyne's\",\n 6363: '691',\n 20815: 'paychecks',\n 13844: \"stadelmann's\",\n 3241: 'choice',\n 11012: 'vastagh',\n 8820: 'embark',\n 9392: 'gloomy',\n 9393: 'stays',\n 4009: 'exact',\n 5117: 'minute',\n 11892: 'kittiwake',\n 20816: 'picul',\n 20817: 'skewed',\n 11013: 'cooke',\n 10078: 'defaults',\n 11014: 'reimpose',\n 9394: 'hindered',\n 20818: 'lengthened',\n 16333: 'chopping',\n 13845: 'mckiernan',\n 20819: 'collaspe',\n 7251: 'corazon',\n 7600: 'antwerp',\n 13846: 'abdullah',\n 13847: 'goldston',\n 442: '300',\n 20821: 'cassa',\n 20822: 'casse',\n 4081: '695',\n 2979: 'ground',\n 839: 'boost',\n 16334: 'azusa',\n 9395: 'drafted',\n 4823: '303',\n 13848: 'climbs',\n 7601: 'honour',\n 20823: 'vanderbilt',\n 3968: '305',\n 3031: 'address',\n 8821: 'dwindling',\n 7252: 'benson',\n 12115: 'enroll',\n 501: 'revenues',\n 12116: 'impacted',\n 20826: 'queue',\n 10079: 'accomplished',\n 7602: 'throughput',\n 9396: 'influx',\n 10080: 'stockbuilding',\n 20827: 'aproximates',\n 13849: 'petroleo',\n 16335: 'sistemas',\n 14053: 'feretti',\n 5943: 'opposes',\n 882: 'working',\n 20829: 'perished',\n 13850: 'oldham',\n 20830: '27000',\n 19245: 'optimize',\n 20832: 'vigour',\n 1580: 'opposed',\n 16336: 'liberalizing',\n 20833: 'wvz',\n 20834: 'dampness',\n 13851: 'approving',\n 13496: 'sierra',\n 20835: 'entrepot',\n 224: 'currency',\n 1499: 'originally',\n 20837: 'tindemans',\n 16337: 'valorem',\n 477: 'following',\n 20838: 'fossen',\n 11016: 'locke',\n 20839: 'employess',\n 12117: 'rotberg',\n 16338: 'parachute',\n 11017: 'locks',\n 12255: 'incremental',\n 16339: 'woolowrth',\n 20841: 'listens',\n 7253: 'litre',\n 3554: 'edouard',\n 1377: 'ounce',\n 20843: 'nicanor',\n 20844: 'sucocitrico',\n 16340: 'minicomputers',\n 16341: \"silva's\",\n 11018: 'restitutions',\n 16342: 'custer',\n 2590: '3rd',\n 10081: 'fueled',\n 20845: 'trydahl',\n 11019: 'aice',\n 12118: 'harmon',\n 10082: 'conscious',\n 20846: 'herbicidesand',\n 20847: 'subdivisions',\n 20848: \"veslefrikk's\",\n 11020: 'swollen',\n 7978: 'pulled',\n 20849: 'tilney',\n 203: 'years',\n 20850: 'structuring',\n 20851: 'episodes',\n 16343: 'sportscene',\n 16344: \"northair's\",\n 20852: 'jig',\n 20853: 'jin',\n 3403: 'jim',\n 8359: 'troubles',\n 13852: 'workforces',\n 2362: 'suspension',\n 3892: 'troubled',\n 16345: 'fondiaria',\n 6697: 'modestly',\n 12119: 'recipients',\n 7979: 'civilian',\n 13853: 'indigenous',\n 20854: 'overpowering',\n 1051: 'drilling',\n 16346: 'sorted',\n 16347: 'lichtenstein',\n 20855: 'bedevil',\n 20856: 'dispite',\n 16843: 'battleships',\n 4824: 'instability',\n 95: 'quarter',\n 20857: 'salado',\n 5692: 'honduras',\n 13855: \"chevron's\",\n 12273: \"lazere's\",\n 2660: 'receipt',\n 8360: 'sponsor',\n 4825: 'entering',\n 16349: \"kcbt's\",\n 19987: 'nowicki',\n 13856: 'salads',\n 16351: 'augar',\n 7980: '797',\n 7254: '796',\n 8361: '795',\n 5295: '794',\n 5118: '793',\n 6170: '792',\n 5296: '791',\n 4826: '790',\n 20858: \"nikko's\",\n 20859: 'unsaleable',\n 5720: '799',\n 5693: '798',\n 2143: 'seriously',\n 16352: 'trauma',\n 20860: 'tvbh',\n 20861: 'macedon',\n 21906: 'disintegrated',\n 21909: 'adddition',\n 2244: 'incentives',\n 5944: 'complicated',\n 20864: 'reevaluating',\n 21921: 'thatching',\n 7981: 'brasil',\n 20865: '79p',\n 4951: 'wrong',\n 8822: 'initiate',\n 16353: 'aboard',\n 7255: 'saving',\n 8823: 'spoken',\n 16364: 'parkinson',\n 65: 'one',\n 20867: 'ont',\n 7256: 'concert',\n 16354: \"boston's\",\n 13859: 'stifled',\n 4622: 'types',\n 20868: 'lingering',\n 16356: 'surges',\n 20869: 'hurdman',\n 16357: 'herds',\n 14114: 'absorbs',\n 4681: 'surged',\n 14211: 'dalkon',\n 13860: 'crossroads',\n 20870: 'shakeup',\n 20871: 'disasterous',\n 11021: 'illness',\n 3242: 'turned',\n 3801: 'locations',\n 12120: 'tyranite',\n 13861: 'minesweepers',\n 7257: 'turner',\n 20872: 'borough',\n 12358: 'underlines',\n 20873: \"bancorporation's\",\n 20874: 'fashionable',\n 20875: \"ae's\",\n 16358: 'dilutions',\n 9472: 'goodman',\n 10510: 'unlawfully',\n 16359: 'mayer',\n 16360: 'printer',\n 20877: 'offload',\n 13862: 'opposite',\n 738: 'buffer',\n 9398: 'printed',\n 16361: 'pequiven',\n 13863: 'panoche',\n 20878: 'knowingly',\n 16362: 'ecusta',\n 20879: 'thsl',\n 8825: 'phil',\n 13864: 'jitters',\n 16363: 'touche',\n 20881: 'jittery',\n 3291: 'friction',\n 16365: 'fecal',\n 22068: 'resurgance',\n 20882: 'heeding',\n 2363: 'soviets',\n 16366: 'imagined',\n 16367: 'transact',\n 20883: 'califoirnia',\n 9399: \"chrysler's\",\n 16368: 'respecitvely',\n 16369: 'presse',\n 10084: 'euromarket',\n 12121: 'guarded',\n 16371: 'satisfacotry',\n 20884: 'authroization',\n 20885: 'simplistic',\n 20886: 'monde',\n 4102: 'awaiting',\n 13865: 'recombinant',\n 20887: 'refinancement',\n 20888: 'comserv',\n 20889: 'kitakyushu',\n 16372: 'pima',\n 11022: 'basle',\n 20891: '6250',\n 16373: 'choudhury',\n 8826: 'vision',\n 20892: 'interruptible',\n 13866: 'weatherford',\n 7982: '832',\n 5694: '833',\n 4420: '830',\n 5119: '831',\n 5297: '836',\n 4553: '837',\n 6172: '834',\n 4952: '835',\n 22144: 'alarming',\n 5695: '838',\n 6173: '839',\n 20893: '524p',\n 20894: 'sponsorship',\n 12122: 'vendex',\n 20895: \"amsouth's\",\n 20896: 'kilometer',\n 10086: 'enjoys',\n 20897: 'illiberal',\n 6174: 'punta',\n 20898: 'punte',\n 10087: 'girozentrale',\n 20899: 'missstatements',\n 10088: 'marietta',\n 6175: 'awards',\n 3635: 'concentrated',\n 20900: '83p',\n 13867: 'developpement',\n 13868: 'rhodes',\n 5696: 'matheson',\n 20901: '1720',\n 20902: 'paring',\n 35: 's',\n 4953: 'concentrates',\n 16374: \"can's\",\n 22183: 'polysaturated',\n 20903: 'parini',\n 13869: 'baden',\n 20904: 'bader',\n 12123: 'buoyancy',\n 20905: 'erdem',\n 16375: 'properites',\n 20906: 'comparitive',\n 12124: 'practises',\n 20907: 'collides',\n 189: 'west',\n 20908: 'wess',\n 13870: 'collided',\n 20909: 'practised',\n 20910: \"amalgamated's\",\n 20911: 'motives',\n 1378: 'wants',\n 1273: 'formed',\n 20912: 'readings',\n 12125: 'geothermal',\n 7315: 'tightened',\n 11023: \"d'or\",\n 1109: 'former',\n 20913: 'venezulean',\n 19935: 'curd',\n 12126: 'squeezes',\n 1019: 'newspaper',\n 817: 'situation',\n 13871: 'ivey',\n 3636: 'engaged',\n 13872: 'dubious',\n 17061: 'cayacq',\n 20916: 'cobol',\n 20917: 'limping',\n 883: 'technology',\n 20919: 'koerner',\n 16376: 'debilitating',\n 7983: 'verified',\n 4010: 'otto',\n 20920: '7770',\n 16377: 'emulsions',\n 16378: \"onic's\",\n 9075: 'slate',\n 20921: 'wires',\n 5506: 'edged',\n 20922: 'assigns',\n 1341: 'singapore',\n 20923: 'deflate',\n 20924: \"strategy's\",\n 16379: 'walesa',\n 4554: 'advertisement',\n 20925: 'luyten',\n 20926: 'shrortly',\n 20927: 'corpoartion',\n 22290: 'preferance',\n 16380: 'tracking',\n 13874: 'sunnyvale',\n 20928: 'colorants',\n 16381: 'persistently',\n 16382: \"officers'\",\n 20929: \"his's\",\n 367: 'being',\n 7259: 'divestitures',\n 20930: 'steamer',\n 20931: 'rover',\n 8362: 'grounded',\n 16383: \"businessmen's\",\n 16384: 'cyanidation',\n 20932: 'overthrow',\n 20933: 'partnerhip',\n 16385: 'sumt',\n 8827: 'sums',\n 16386: 'oelmuehle',\n 16387: 'unveil',\n 13875: 'gestures',\n 20934: 'penta',\n 2544: 'traffic',\n 2428: 'preference',\n 20935: 'sumi',\n 166: 'world',\n 9400: 'postal',\n 16388: 'bced',\n 12128: 'dornbush',\n 14215: 'confine',\n 20936: '2555',\n 5945: \"zambia's\",\n 20937: 'superiority',\n 20938: 'militate',\n 2395: 'satisfactory',\n 20939: 'superintendent',\n 5946: 'tvx',\n 16389: 'tvt',\n 6698: 'magma',\n 20940: 'diving',\n 15548: 'tvb',\n 13876: 'seaman',\n 11025: 'matsunaga',\n 4827: '919',\n 5298: '918',\n 17070: 'refundable',\n 5947: '914',\n 7260: '917',\n 6699: '916',\n 5507: '911',\n 4828: '910',\n 10213: 'restoring',\n 4555: '912',\n 20942: 'squabble',\n 7261: 'retains',\n 20943: \"partner's\",\n 5300: 'leadership',\n 11026: 'graaf',\n 20944: 'spacelab',\n 1800: 'thailand',\n 9402: 'graan',\n 20945: 'exasperating',\n 12129: 'hartmarx',\n 16390: 'frights',\n 20946: 'niall',\n 11027: 'johnston',\n 16391: '91p',\n 16392: 'sensitively',\n 6016: 'porsche',\n 15494: 'prepares',\n 12130: 'lively',\n 10686: 'stoppages',\n 16394: \"associated's\",\n 12131: 'pivot',\n 1037: 'series',\n 24050: 'sese',\n 7604: 'bubble',\n 16395: 'trusses',\n 20949: 'interestate',\n 20950: 'continents',\n 20951: 'societal',\n 28: 'with',\n 6176: 'pull',\n 6700: 'rush',\n 6222: 'monopoly',\n 20953: 'operationally',\n 20954: 'dirty',\n 10090: 'abuses',\n 7262: 'prudhoe',\n 5949: 'pulp',\n 16396: 'rust',\n 20955: 'hellman',\n 20956: 'amdec',\n 16397: 'australasian',\n 13878: 'watches',\n 20957: 'hypertension',\n 20958: \"hemdale's\",\n 16398: 'formulation',\n 7605: 'watched',\n 20959: 'jargon',\n 13879: 'cream',\n 9404: 'ideally',\n 11028: 'ryavec',\n 20960: 'microoganisms',\n 13880: 'indemnify',\n 20961: 'wincenty',\n 20962: 'waving',\n 20963: \"multifood's\",\n 20964: 'midges',\n 11029: 'natalie',\n 13881: 'crosbie',\n 20965: 'posible',\n 13882: 'omnibus',\n 20966: 'assetsof',\n 13883: 'tricks',\n 16399: 'rs',\n 20967: 'kilogram',\n 25363: 'pruning',\n 13884: 'dyer',\n 20968: 'dyes',\n 20969: 'legislatures',\n 16400: 'scm',\n 9405: 'sci',\n 20970: 'riedel',\n 16401: 'ceramic',\n 6701: 'unitholders',\n 13885: 'scb',\n 20971: 'dn11',\n 20972: 'conditionality',\n 13807: \"stock's\",\n 20973: 'masland',\n 7606: 'causes',\n 10091: 'riots',\n 20974: 'norf',\n 9406: 'nord',\n 3893: 'midwest',\n 13886: 'tamils',\n 16402: 'ofthe',\n 3421: \"colombia's\",\n 11030: '24th',\n 20975: 'sant',\n 10092: 'moines',\n 22577: 'electrotechnical',\n 24534: 'proceeded',\n 20976: 'sanz',\n 13887: 'insufficiently',\n 20977: 'sang',\n 5950: 'sand',\n 16404: 'bracho',\n 805: 'small',\n 20978: 'workloads',\n 6702: 'sank',\n 20979: 'kemper',\n 16405: 'abbreviated',\n 13888: 'quicker',\n 3802: '199',\n 3243: '198',\n 2661: '195',\n 3080: '194',\n 4310: '197',\n 3894: '196',\n 2850: '191',\n 2199: '190',\n 3481: '193',\n 3350: '192',\n 582: 'past',\n 20980: 'fractionation',\n 20981: 'displays',\n 3081: 'pass',\n 202: 'investment',\n 27062: 'quals',\n 16406: 'quicken',\n 20983: \"centronic's\",\n 20984: 'menswear',\n 16407: 'clock',\n 20985: 'teape',\n 20986: 'teapa',\n 10093: 'prevailed',\n 9407: 'hebei',\n ...}"
     },
     "execution_count": 28,
     "metadata": {},
     "output_type": "execute_result"
    }
   ],
   "source": [
    "reverse_word_index"
   ],
   "metadata": {
    "collapsed": false
   }
  },
  {
   "cell_type": "code",
   "execution_count": 26,
   "outputs": [
    {
     "data": {
      "text/plain": "'? ? ? said as a result of its december acquisition of space co it expects earnings per share in 1987 of 1 15 to 1 30 dlrs per share up from 70 cts in 1986 the company said pretax net should rise to nine to 10 mln dlrs from six mln dlrs in 1986 and rental operation revenues to 19 to 22 mln dlrs from 12 5 mln dlrs it said cash flow per share this year should be 2 50 to three dlrs reuter 3'"
     },
     "execution_count": 26,
     "metadata": {},
     "output_type": "execute_result"
    }
   ],
   "source": [
    "decoded_newswire"
   ],
   "metadata": {
    "collapsed": false
   }
  },
  {
   "cell_type": "markdown",
   "source": [
    "## 데이터를 벡터로 인코딩하기"
   ],
   "metadata": {
    "collapsed": false
   }
  },
  {
   "cell_type": "code",
   "execution_count": 53,
   "outputs": [],
   "source": [
    "import numpy as np\n",
    "\n",
    "def vectorize(sequences, dimension = 10000):\n",
    "    results = np.zeros((len(sequences), dimension))\n",
    "    for i, sequence in enumerate(sequences):\n",
    "        results[i, sequence] = 1.\n",
    "    return results\n",
    "\n",
    "x_train = vectorize(train_data)\n",
    "x_test = vectorize(test_data)"
   ],
   "metadata": {
    "collapsed": false
   }
  },
  {
   "cell_type": "markdown",
   "source": [
    "train_data를 enumerate 하면 i, sequence 에서 sequence에는 뭐가 들어감? 원소가 있는건 알겠는데아아아 저 정수 숫자구나\n",
    "아 그래서 저 행, 정수숫자 부분에 가서 1.로 채우는거구나"
   ],
   "metadata": {
    "collapsed": false
   }
  },
  {
   "cell_type": "markdown",
   "source": [
    "## 레이블을 벡터로 인코딩하기"
   ],
   "metadata": {
    "collapsed": false
   }
  },
  {
   "cell_type": "code",
   "execution_count": 60,
   "outputs": [],
   "source": [
    "def to_one_hot(labels, dimension = 46):\n",
    "    results = np.zeros((len(labels), dimension))\n",
    "    for i , label in enumerate(labels):\n",
    "        results[i, label] = 1.\n",
    "    return results\n",
    "\n",
    "one_hot_train_labels = to_one_hot(train_labels)\n",
    "ont_hot_test_labels = to_one_hot(test_labels)"
   ],
   "metadata": {
    "collapsed": false
   }
  },
  {
   "cell_type": "markdown",
   "source": [
    "얘는 train_data랑 test_data가 넘파이배열이라 to_categorical함수를 못씀.\n",
    "# to_categorical 은 걍 one hot encoding 해주던데;"
   ],
   "metadata": {
    "collapsed": false
   }
  },
  {
   "cell_type": "markdown",
   "source": [
    "## 모델 구성"
   ],
   "metadata": {
    "collapsed": false
   }
  },
  {
   "cell_type": "code",
   "execution_count": 62,
   "outputs": [],
   "source": [
    "from keras import models\n",
    "from keras import layers\n",
    "\n",
    "model = models.Sequential()\n",
    "model.add(layers.Dense(64, activation='relu', input_shape=(10000, )))\n",
    "model.add(layers.Dense(64, activation = 'relu'))\n",
    "model.add(layers.Dense(46, activation='softmax'))"
   ],
   "metadata": {
    "collapsed": false
   }
  },
  {
   "cell_type": "markdown",
   "source": [
    "마지막 층에 46은 각 입력 샘플에 대해 46차원 벡터 출력(각기 다른 출력 클래스가 인코딩댐. 46클래스인듯)\n",
    "마지막 softmax - 확률 분포 출력\n",
    "# softmax : 입력받은 값을 출력으로 0~1사이의 값으로 모두 정규화. 출력 값들의 총합은 항상 1\n",
    "output[i]는 어떤 샘플이 클래스 i에 속할 확률 출력"
   ],
   "metadata": {
    "collapsed": false
   }
  },
  {
   "cell_type": "markdown",
   "source": [
    "# 모델 컴파일 가보자고"
   ],
   "metadata": {
    "collapsed": false
   }
  },
  {
   "cell_type": "code",
   "execution_count": 63,
   "outputs": [],
   "source": [
    "model.compile(optimizer='rmsprop',\n",
    "              loss = 'categorical_crossentropy',\n",
    "              metrics = ['accuracy'])"
   ],
   "metadata": {
    "collapsed": false
   }
  },
  {
   "cell_type": "markdown",
   "source": [
    "# 모델 훈련 가보자고"
   ],
   "metadata": {
    "collapsed": false
   }
  },
  {
   "cell_type": "code",
   "execution_count": 64,
   "outputs": [],
   "source": [
    "#검증 세트 떼어내기\n",
    "x_val = x_train[:1000]\n",
    "part_x_train = x_train[1000:]\n",
    "\n",
    "y_val = one_hot_train_labels[:1000]\n",
    "part_y_train = one_hot_train_labels[1000:]"
   ],
   "metadata": {
    "collapsed": false
   }
  },
  {
   "cell_type": "code",
   "execution_count": 65,
   "outputs": [
    {
     "name": "stdout",
     "output_type": "stream",
     "text": [
      "Epoch 1/20\n",
      "16/16 [==============================] - 1s 47ms/step - loss: 2.6671 - accuracy: 0.5064 - val_loss: 1.8124 - val_accuracy: 0.6120\n",
      "Epoch 2/20\n",
      "16/16 [==============================] - 1s 33ms/step - loss: 1.5148 - accuracy: 0.6877 - val_loss: 1.3520 - val_accuracy: 0.7090\n",
      "Epoch 3/20\n",
      "16/16 [==============================] - 1s 41ms/step - loss: 1.1486 - accuracy: 0.7582 - val_loss: 1.1719 - val_accuracy: 0.7410\n",
      "Epoch 4/20\n",
      "16/16 [==============================] - 1s 32ms/step - loss: 0.9334 - accuracy: 0.8027 - val_loss: 1.0606 - val_accuracy: 0.7710\n",
      "Epoch 5/20\n",
      "16/16 [==============================] - 1s 34ms/step - loss: 0.7715 - accuracy: 0.8314 - val_loss: 0.9898 - val_accuracy: 0.7860\n",
      "Epoch 6/20\n",
      "16/16 [==============================] - 1s 33ms/step - loss: 0.6410 - accuracy: 0.8612 - val_loss: 0.9484 - val_accuracy: 0.7940\n",
      "Epoch 7/20\n",
      "16/16 [==============================] - 1s 33ms/step - loss: 0.5384 - accuracy: 0.8842 - val_loss: 0.9131 - val_accuracy: 0.8010\n",
      "Epoch 8/20\n",
      "16/16 [==============================] - 1s 34ms/step - loss: 0.4494 - accuracy: 0.9055 - val_loss: 0.8866 - val_accuracy: 0.8070\n",
      "Epoch 9/20\n",
      "16/16 [==============================] - 1s 35ms/step - loss: 0.3813 - accuracy: 0.9194 - val_loss: 0.8686 - val_accuracy: 0.8100\n",
      "Epoch 10/20\n",
      "16/16 [==============================] - 1s 34ms/step - loss: 0.3246 - accuracy: 0.9296 - val_loss: 0.8822 - val_accuracy: 0.8170\n",
      "Epoch 11/20\n",
      "16/16 [==============================] - 1s 33ms/step - loss: 0.2835 - accuracy: 0.9366 - val_loss: 0.8621 - val_accuracy: 0.8140\n",
      "Epoch 12/20\n",
      "16/16 [==============================] - 1s 35ms/step - loss: 0.2477 - accuracy: 0.9429 - val_loss: 0.8620 - val_accuracy: 0.8250\n",
      "Epoch 13/20\n",
      "16/16 [==============================] - 1s 40ms/step - loss: 0.2167 - accuracy: 0.9480 - val_loss: 0.8852 - val_accuracy: 0.8160\n",
      "Epoch 14/20\n",
      "16/16 [==============================] - 1s 34ms/step - loss: 0.2017 - accuracy: 0.9516 - val_loss: 0.8881 - val_accuracy: 0.8150\n",
      "Epoch 15/20\n",
      "16/16 [==============================] - 1s 35ms/step - loss: 0.1829 - accuracy: 0.9524 - val_loss: 0.9027 - val_accuracy: 0.8110\n",
      "Epoch 16/20\n",
      "16/16 [==============================] - 1s 35ms/step - loss: 0.1653 - accuracy: 0.9534 - val_loss: 0.9125 - val_accuracy: 0.8070\n",
      "Epoch 17/20\n",
      "16/16 [==============================] - 1s 36ms/step - loss: 0.1560 - accuracy: 0.9553 - val_loss: 0.9282 - val_accuracy: 0.8130\n",
      "Epoch 18/20\n",
      "16/16 [==============================] - 1s 35ms/step - loss: 0.1425 - accuracy: 0.9577 - val_loss: 0.9207 - val_accuracy: 0.8080\n",
      "Epoch 19/20\n",
      "16/16 [==============================] - 1s 36ms/step - loss: 0.1409 - accuracy: 0.9548 - val_loss: 0.9540 - val_accuracy: 0.8130\n",
      "Epoch 20/20\n",
      "16/16 [==============================] - 1s 34ms/step - loss: 0.1318 - accuracy: 0.9582 - val_loss: 0.9377 - val_accuracy: 0.8050\n"
     ]
    }
   ],
   "source": [
    "history = model.fit(part_x_train, part_y_train, epochs=20, batch_size=512, validation_data=(x_val, y_val))"
   ],
   "metadata": {
    "collapsed": false
   }
  },
  {
   "cell_type": "markdown",
   "source": [
    "# fit()에는 train데이터랑 train라벨 일부 떼어낸게 들어감.(train할것들)\n",
    "validation_data에는 검증에 사용할 떼어낸 검증용 데이터, 라벨이 들어감.(train빼고 남겨둔 뒤의것들로 검증)\n"
   ],
   "metadata": {
    "collapsed": false
   }
  },
  {
   "cell_type": "markdown",
   "source": [
    "# 그래프 가보자고"
   ],
   "metadata": {
    "collapsed": false
   }
  },
  {
   "cell_type": "code",
   "execution_count": 75,
   "outputs": [
    {
     "data": {
      "text/plain": "<Figure size 640x480 with 1 Axes>",
      "image/png": "[encoded data removed]"
     },
     "metadata": {},
     "output_type": "display_data"
    }
   ],
   "source": [
    "import matplotlib.pyplot as plt\n",
    "\n",
    "loss = history.history['loss']  #history.history 는 딕셔너리구나. loss는 각 epoch(20회) 마다 loss를 원소로 가진 배열\n",
    "val_loss = history.history['val_loss']\n",
    "\n",
    "epochs = range(1, len(loss)+1)\n",
    "\n",
    "plt.plot(epochs, loss, 'bo', label = 'Training Loss')\n",
    "plt.plot(epochs, val_loss, 'b', label = 'Validation Loss')\n",
    "plt.title('gui chan ah')\n",
    "plt.xlabel('Epochs')\n",
    "plt.ylabel('Loss')\n",
    "plt.legend()\n",
    "\n",
    "plt.show()"
   ],
   "metadata": {
    "collapsed": false
   }
  },
  {
   "cell_type": "code",
   "execution_count": 77,
   "outputs": [
    {
     "data": {
      "text/plain": "[2.667090892791748,\n 1.5148169994354248,\n 1.1485568284988403,\n 0.9333644509315491,\n 0.7714802622795105,\n 0.640995979309082,\n 0.5384324789047241,\n 0.44937828183174133,\n 0.3812711238861084,\n 0.3246452510356903,\n 0.28346771001815796,\n 0.24766112864017487,\n 0.21669775247573853,\n 0.20168538391590118,\n 0.18287022411823273,\n 0.1653461903333664,\n 0.15597741305828094,\n 0.1424853503704071,\n 0.1409369260072708,\n 0.13178910315036774]"
     },
     "execution_count": 77,
     "metadata": {},
     "output_type": "execute_result"
    }
   ],
   "source": [
    "loss"
   ],
   "metadata": {
    "collapsed": false
   }
  },
  {
   "cell_type": "markdown",
   "source": [
    "# 오늘의 결론"
   ],
   "metadata": {
    "collapsed": false
   }
  },
  {
   "cell_type": "markdown",
   "source": [
    "* N개의 클래스로 분류할 때 마지막 Dense 층 크기 N\n",
    "* 확률 분포 출력시 softmax\n",
    "* 이런 문제는 항상 범주형(categorical) crossentropy"
   ],
   "metadata": {
    "collapsed": false
   }
  }
 ],
 "metadata": {
  "kernelspec": {
   "display_name": "Python 3",
   "language": "python",
   "name": "python3"
  },
  "language_info": {
   "codemirror_mode": {
    "name": "ipython",
    "version": 2
   },
   "file_extension": ".py",
   "mimetype": "text/x-python",
   "name": "python",
   "nbconvert_exporter": "python",
   "pygments_lexer": "ipython2",
   "version": "2.7.6"
  }
 },
 "nbformat": 4,
 "nbformat_minor": 0
}
